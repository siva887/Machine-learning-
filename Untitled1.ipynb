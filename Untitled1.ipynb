{
  "nbformat": 4,
  "nbformat_minor": 0,
  "metadata": {
    "colab": {
      "provenance": [],
      "authorship_tag": "ABX9TyMVCdIFniRAWk+ZATcaa6/z",
      "include_colab_link": true
    },
    "kernelspec": {
      "name": "python3",
      "display_name": "Python 3"
    },
    "language_info": {
      "name": "python"
    }
  },
  "cells": [
    {
      "cell_type": "markdown",
      "metadata": {
        "id": "view-in-github",
        "colab_type": "text"
      },
      "source": [
        "<a href=\"https://colab.research.google.com/github/siva887/Machine-learning-/blob/main/Untitled1.ipynb\" target=\"_parent\"><img src=\"https://colab.research.google.com/assets/colab-badge.svg\" alt=\"Open In Colab\"/></a>"
      ]
    },
    {
      "cell_type": "code",
      "execution_count": null,
      "metadata": {
        "id": "wVcFicizR_FK"
      },
      "outputs": [],
      "source": [
        "\n",
        "import pandas as pd\n",
        "from sklearn.model_selection import train_test_split\n",
        "from sklearn.linear_model import LinearRegression\n",
        "from sklearn.metrics import mean_squared_error\n",
        "\n",
        "# Sample dataset (replace with your actual CSV data)\n",
        "data = {\n",
        "    'PM2.5': [35, 45, 60, 20, 90, 55, 80],\n",
        "    'PM10': [60, 70, 100, 40, 150, 90, 130],\n",
        "    'NO2': [20, 30, 40, 15, 60, 35, 50],\n",
        "    'Air_Quality_Index': [90, 110, 150, 70, 200, 130, 180]  # Target\n",
        "}\n",
        "\n",
        "# Convert to DataFrame\n",
        "df = pd.DataFrame(data)\n",
        "\n",
        "# Features and target\n",
        "X = df[['PM2.5', 'PM10', 'NO2']]\n",
        "y = df['Air_Quality_Index']\n",
        "\n",
        "# Train/test split\n",
        "X_train, X_test, y_train, y_test = train_test_split(X, y, test_size=0.3, random_state=0)\n",
        "\n",
        "# Train model\n",
        "model = LinearRegression()\n",
        "model.fit(X_train, y_train)\n",
        "\n",
        "# Predict\n",
        "predictions = model.predict(X_test)\n",
        "\n",
        "# Results\n",
        "print(\"Predictions:\", predictions)\n",
        "print(\"Actual:\", list(y_test))\n",
        "print(\"Mean Squared Error:\", mean_squared_error(y_test, predictions))"
      ]
    }
  ]
}